{
 "cells": [
  {
   "cell_type": "code",
   "execution_count": 1,
   "metadata": {},
   "outputs": [],
   "source": [
    "import pandas as pd\n",
    "from datetime import datetime\n",
    "\n",
    "import numpy as np\n",
    "from scipy.optimize import minimize"
   ]
  },
  {
   "cell_type": "code",
   "execution_count": 2,
   "metadata": {},
   "outputs": [],
   "source": [
    "def portfolio_std_dev3(stock_and_qty_dict, start_date, end_date):\n",
    "    initial_value = 0\n",
    "    composition_list = []\n",
    "    \n",
    "    demeanedreturn = []\n",
    "    \n",
    "    for stock,qty in stock_and_qty_dict.items():\n",
    "        file_string = '/Users/grant/Documents/Stock_Data_Spreadsheets/%s_Data.xlsx'%stock\n",
    "        data = pd.read_excel(file_string)\n",
    "        df = pd.DataFrame(data, columns= ['Date','Close'])\n",
    "        \n",
    "        df = df[(df['Date'] >= start_date) & (df['Date'] <= end_date)]\n",
    "        \n",
    "\n",
    "        initial_value+=df['Close'].iloc[0]*qty\n",
    "        composition_list.append(df['Close'].iloc[0]*qty)\n",
    "        \n",
    "        \n",
    "        df['Close'] = df['Close'].pct_change()\n",
    "        mean = df['Close'].mean()\n",
    "        df['Close']= df['Close']-mean\n",
    "        demeanedreturn.append(df['Close'].tolist())\n",
    "    \n",
    "    demeanedreturn_matrix = np.array(demeanedreturn)\n",
    "    demeanedreturn_matrix = demeanedreturn_matrix.transpose()\n",
    "    demeanedreturn_matrix = np.delete(demeanedreturn_matrix,0,axis=0)\n",
    "    \n",
    "    covariance_matrix = np.matmul(demeanedreturn_matrix.transpose(),demeanedreturn_matrix)/demeanedreturn_matrix.shape[0]\n",
    "    \n",
    "    for i in range(len(composition_list)):\n",
    "        composition_list[i]/=initial_value\n",
    "    weights = np.array([composition_list])\n",
    "    weights = np.transpose(weights)\n",
    "    \n",
    "    variance = np.matmul(np.matmul(weights.transpose(),covariance_matrix),weights)\n",
    "    std_dev = float(variance**0.5)\n",
    "    \n",
    "    return std_dev"
   ]
  },
  {
   "cell_type": "code",
   "execution_count": 4,
   "metadata": {},
   "outputs": [],
   "source": [
    "def portfolio_div(stock_and_qty_dict, start_date, end_date):\n",
    "    start = datetime.fromisoformat(start_date)\n",
    "    end = datetime.fromisoformat(end_date)\n",
    "    total_div = 0\n",
    "\n",
    "    \n",
    "    for stock,qty in stock_and_qty_dict.items():\n",
    "        file_string = '/Users/grant/Documents/Stock_Data_Spreadsheets/%s_Data.xlsx'%stock\n",
    "        data = pd.read_excel(file_string)\n",
    "        df = pd.DataFrame(data, columns= ['Date','Div'])\n",
    "        \n",
    "        for year in range (start.year,end.year+1):\n",
    "            modifier = 1\n",
    "            if year == start.year:\n",
    "                modifier -= (start.month//3)/4\n",
    "            if year == end.year:\n",
    "                modifier -= (4-end.month//3)/4\n",
    "                \n",
    "            search_date = '%s-03-01' %year\n",
    "                \n",
    "            test = df.loc[df['Date'] == search_date]['Div'].values\n",
    "            if test.size == 0:\n",
    "                search_date = '%s-03-04' %year\n",
    "                test = df.loc[df['Date'] == search_date]['Div'].values\n",
    "                if test.size == 0:\n",
    "                    test = [0]\n",
    "                \n",
    "            total_div += test[0]*qty*modifier\n",
    "    return total_div\n",
    "\n",
    "def portfolio_initial_value(stock_and_qty_dict, start_date):\n",
    "    initial_value = 0\n",
    "    for stock,qty in stock_and_qty_dict.items():\n",
    "        file_string = '/Users/grant/Documents/Stock_Data_Spreadsheets/%s_Data.xlsx'%stock\n",
    "        data = pd.read_excel(file_string)\n",
    "        df = pd.DataFrame(data, columns= ['Date','Close'])\n",
    "        df = df.loc[df['Date']>=start_date]\n",
    "        initial_value+=df['Close'].iloc[0]*qty\n",
    "    return initial_value"
   ]
  },
  {
   "cell_type": "code",
   "execution_count": 5,
   "metadata": {},
   "outputs": [],
   "source": [
    "def optimize_portfolio(stocks,cash,target_yield,start_date,end_date):\n",
    "    def objective(x):\n",
    "        my_portfolio={}\n",
    "        for i in range(len(stocks)):\n",
    "            my_portfolio[stocks[i]]=x[i]\n",
    "        \n",
    "        my_portfolio_std_dev = portfolio_std_dev3(my_portfolio, start_date, end_date)\n",
    "        return my_portfolio_std_dev\n",
    "\n",
    "    def constraint1(x):\n",
    "        my_portfolio={}\n",
    "        for i in range(len(stocks)):\n",
    "            my_portfolio[stocks[i]]=x[i]\n",
    "        \n",
    "        return cash-portfolio_initial_value(my_portfolio, start_date)\n",
    "\n",
    "    def constraint2(x):\n",
    "        my_portfolio={}\n",
    "        for i in range(len(stocks)):\n",
    "            my_portfolio[stocks[i]]=x[i]\n",
    "        \n",
    "        dividend_yield = portfolio_div(my_portfolio, start_date, end_date)/cash\n",
    "        return dividend_yield-target_yield\n",
    "    \n",
    "    b = (1.0,300.0)\n",
    "    bnds = (b,b,b)\n",
    "    con1 = {'type':'eq','fun':constraint1}\n",
    "    con2 = {'type':'ineq','fun':constraint2}\n",
    "    cons = [con1,con2]\n",
    "    x0 = [50,50,50]\n",
    "    \n",
    "    sol = minimize(objective,x0,method='SLSQP',bounds=bnds,constraints = cons)\n",
    "    return sol"
   ]
  },
  {
   "cell_type": "code",
   "execution_count": 6,
   "metadata": {},
   "outputs": [
    {
     "data": {
      "text/plain": [
       "     fun: 0.010106903353346566\n",
       "     jac: array([ 1.66165410e-05, -6.71310117e-05, -5.19220484e-05])\n",
       " message: 'Optimization terminated successfully.'\n",
       "    nfev: 11\n",
       "     nit: 2\n",
       "    njev: 2\n",
       "  status: 0\n",
       " success: True\n",
       "       x: array([133.60664619,  17.59828992,  20.00436959])"
      ]
     },
     "execution_count": 6,
     "metadata": {},
     "output_type": "execute_result"
    }
   ],
   "source": [
    "optimize_portfolio([\"ENB\",\"RY\",\"TD\"],10000,0.10,'2018-01-01', '2020-01-01')"
   ]
  },
  {
   "cell_type": "code",
   "execution_count": null,
   "metadata": {},
   "outputs": [],
   "source": []
  }
 ],
 "metadata": {
  "kernelspec": {
   "display_name": "Python 3",
   "language": "python",
   "name": "python3"
  },
  "language_info": {
   "codemirror_mode": {
    "name": "ipython",
    "version": 3
   },
   "file_extension": ".py",
   "mimetype": "text/x-python",
   "name": "python",
   "nbconvert_exporter": "python",
   "pygments_lexer": "ipython3",
   "version": "3.7.4"
  }
 },
 "nbformat": 4,
 "nbformat_minor": 2
}
